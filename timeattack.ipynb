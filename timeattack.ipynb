{
  "nbformat": 4,
  "nbformat_minor": 0,
  "metadata": {
    "accelerator": "GPU",
    "colab": {
      "name": "timeattack.ipynb",
      "provenance": []
    },
    "interpreter": {
      "hash": "4fe65d4e1bbd380307a3581ffc1bd66b89b7d3dcc4c952b032344da474654e72"
    },
    "kernelspec": {
      "display_name": "Python 3.6.7 64-bit ('base': conda)",
      "name": "python3"
    },
    "language_info": {
      "codemirror_mode": {
        "name": "ipython",
        "version": 3
      },
      "file_extension": ".py",
      "mimetype": "text/x-python",
      "name": "python",
      "nbconvert_exporter": "python",
      "pygments_lexer": "ipython3",
      "version": ""
    }
  },
  "cells": [
    {
      "cell_type": "markdown",
      "metadata": {
        "id": "LQojBOksoum5"
      },
      "source": [
        "## Password Cracking with Time"
      ]
    },
    {
      "cell_type": "code",
      "metadata": {
        "id": "mNGsMBjeoum7"
      },
      "source": [
        "import itertools\n",
        "import random\n",
        "import string\n",
        "import time\n",
        "import timeit\n",
        "import numpy as np\n",
        "import concurrent.futures\n",
        "from threading import Thread, Lock"
      ],
      "execution_count": null,
      "outputs": []
    },
    {
      "cell_type": "code",
      "metadata": {
        "id": "Tu1mnac5oum8"
      },
      "source": [
        "passwordDatabase = {'Faizan': 'password123',\n",
        "                    'Mike': 'apple345',\n",
        "                    'Josh': 'coding78'}"
      ],
      "execution_count": null,
      "outputs": []
    },
    {
      "cell_type": "code",
      "metadata": {
        "colab": {
          "base_uri": "https://localhost:8080/"
        },
        "id": "U0ddPD89oum9",
        "outputId": "08112dc2-98d2-430b-dc10-1a28be6252f4"
      },
      "source": [
        "# For this program, the available characters for the password will be a - z and an empty space \n",
        "allowedChars = string.ascii_lowercase + '0123456789 '\n",
        "\n",
        "print('{' + allowedChars + '}')"
      ],
      "execution_count": null,
      "outputs": [
        {
          "output_type": "stream",
          "text": [
            "{abcdefghijklmnopqrstuvwxyz0123456789 }\n"
          ],
          "name": "stdout"
        }
      ]
    },
    {
      "cell_type": "code",
      "metadata": {
        "id": "vknpAOrgoum-"
      },
      "source": [
        "def checkPassword(user, guess):\n",
        "    \n",
        "    actual = passwordDatabase[user]\n",
        "    \n",
        "    if len(guess) != len(actual): return False\n",
        "\n",
        "    for i in range(len(actual)):\n",
        "        if guess[i] != actual[i]:\n",
        "            return False\n",
        "\n",
        "    return True"
      ],
      "execution_count": null,
      "outputs": []
    },
    {
      "cell_type": "code",
      "metadata": {
        "colab": {
          "base_uri": "https://localhost:8080/"
        },
        "id": "2R2JOOkCoum_",
        "outputId": "c0f32d58-2e70-4e98-e9d6-d9eb08dae68f"
      },
      "source": [
        "\n",
        "# Generate a string of a defined length containing random characters \n",
        "def random_str(size):\n",
        "    return ''.join(random.choices(allowedChars, k=size))\n",
        "\n",
        "\n",
        "def crackLength(user, maxLength=32):\n",
        "          \n",
        "    times = np.empty(maxLength)    \n",
        "\n",
        "    for i in range(6, maxLength):\n",
        "\n",
        "        '''\n",
        "        Check strings of lengths 6 - 32, \n",
        "        with 6 being the minimum length of a password and 32 being the max \n",
        "\n",
        "        If the length of the randomly generated string matches the length of the password,\n",
        "        the time it would take to check if the strings are the same would be the greatest.\n",
        "\n",
        "        We can find the correct length of the user's password by checking what length of the \n",
        "        randomly generated string results in the longest time to compute \n",
        "        the checkPassword() function.\n",
        "        '''\n",
        "\n",
        "        checkTime = timeit.repeat(stmt='checkPassword(user, x)',\n",
        "                                  setup=f'user={user!r}; x = random_str({i!r})',\n",
        "                                  globals=globals(),\n",
        "                                  number=2500,\n",
        "                                  repeat=30)\n",
        "      \n",
        "\n",
        "        times[i] = min(checkTime)\n",
        "        \n",
        "\n",
        "    # The 5 most probable length's of the user's password \n",
        "    mostLikelyLens = np.argsort(times)[::-1][:5]\n",
        "\n",
        "    print(mostLikelyLens, times[mostLikelyLens] / times[mostLikelyLens[0]])\n",
        "\n",
        "    # The most probable length\n",
        "    mostLikelyLen = int(np.argmax(times))\n",
        "\n",
        "    return mostLikelyLen\n",
        "\n",
        "\n",
        "'''\n",
        "Example: \n",
        "The function correctly computes the length of the user's password \n",
        "to be 11 (password123)\n",
        "'''\n",
        "\n",
        "psLen = crackLength('Faizan')\n",
        "print(psLen)\n",
        "  "
      ],
      "execution_count": null,
      "outputs": [
        {
          "output_type": "stream",
          "text": [
            "[11  7 20 18 28] [1.         0.40492298 0.40382951 0.40249879 0.40229586]\n",
            "11\n"
          ],
          "name": "stdout"
        }
      ]
    },
    {
      "cell_type": "code",
      "metadata": {
        "id": "Blm9xjS1ounA"
      },
      "source": [
        "def crackPassword(user, length):\n",
        "    \n",
        "    guess = random_str(length)\n",
        "    \n",
        "    counter = itertools.count()\n",
        "\n",
        "    print('\\nPassword Guesses:')\n",
        "    \n",
        "    while True:\n",
        "        \n",
        "        i = next(counter) % length\n",
        "        \n",
        "        for c in allowedChars:\n",
        "            \n",
        "            alt = guess[:i] + c + guess[i + 1 : ]\n",
        "\n",
        "            alt_time = timeit.repeat(stmt='checkPassword(user, x)',\n",
        "                                     setup=f'user={user!r}; x={alt!r}',\n",
        "                                     globals=globals(),\n",
        "                                     number=5000,\n",
        "                                     repeat=40)\n",
        "\n",
        "            guess_time = timeit.repeat(stmt='checkPassword(user, x)',\n",
        "                                       setup=f'user={user!r}; x={guess!r}',\n",
        "                                       globals=globals(),\n",
        "                                       number=5000,\n",
        "                                       repeat=40)\n",
        "\n",
        "            if checkPassword(user, alt):\n",
        "                print('Password Cracked:', alt)\n",
        "                return alt\n",
        "\n",
        "            if min(alt_time) > min(guess_time):\n",
        "                \n",
        "                guess = alt\n",
        "                print(guess)\n"
      ],
      "execution_count": null,
      "outputs": []
    },
    {
      "cell_type": "code",
      "metadata": {
        "colab": {
          "background_save": true,
          "base_uri": "https://localhost:8080/"
        },
        "id": "vdTxxr9GounA",
        "outputId": "5331deb8-9467-4c8c-80bf-f8e5965f12be"
      },
      "source": [
        "user = 'Faizan'\n",
        "psLength = crackLength(user)\n",
        "print('\\nMost Probable Password Length:', psLength)\n",
        "\n",
        "start = time.time()\n",
        "ps = crackPassword(user, psLength)\n",
        "end = time.time()\n",
        "\n",
        "print(f'\\nPassword cracked in {round(end - start, 2)} seconds')\n"
      ],
      "execution_count": null,
      "outputs": [
        {
          "output_type": "stream",
          "text": [
            "[11 26 24 27 12] [1.         0.42565965 0.42361676 0.42261597 0.42236689]\n",
            "\n",
            "Most Probable Password Length: 11\n",
            "\n",
            "Password Guesses:\n",
            "pwtldg0 0qv\n",
            "patldg0 0qv\n",
            "paaldg0 0qv\n",
            "pacldg0 0qv\n",
            "padldg0 0qv\n",
            "pasldg0 0qv\n",
            "pasldg0 0qv\n",
            "pasmdg0 0qv\n",
            "passdg0 0qv\n",
            "passwg0 0qv\n",
            "passwo0 0qv\n",
            "passwod 0qv\n",
            "passwoe 0qv\n",
            "passwof 0qv\n",
            "passwog 0qv\n",
            "passwoh 0qv\n",
            "passwol 0qv\n",
            "passwor 0qv\n",
            "passwora0qv\n",
            "password0qv\n",
            "passwordoqv\n",
            "passwordvqv\n",
            "password1qv\n",
            "password1bv\n",
            "password1dv\n",
            "password1iv\n",
            "password1kv\n",
            "password1lv\n",
            "password1sv\n",
            "password1uv\n",
            "password1wv\n",
            "password1xv\n",
            "password1yv\n",
            "password1zv\n",
            "password11v\n",
            "password12v\n",
            "password12d\n",
            "password12e\n",
            "password12f\n",
            "password12j\n",
            "password12k\n",
            "password12l\n",
            "password12m\n",
            "password12n\n",
            "password12o\n",
            "password12p\n",
            "password12q\n",
            "password12r\n",
            "password12s\n",
            "password12t\n",
            "password12u\n",
            "password12v\n",
            "password12w\n",
            "password12x\n",
            "password12y\n",
            "password12z\n",
            "password120\n",
            "password121\n",
            "password122\n",
            "Password Cracked: password123\n",
            "\n",
            "Password cracked in 179.83 seconds\n"
          ],
          "name": "stdout"
        }
      ]
    },
    {
      "cell_type": "code",
      "metadata": {
        "colab": {
          "background_save": true
        },
        "id": "3R_WNb3ZounB"
      },
      "source": [
        ""
      ],
      "execution_count": null,
      "outputs": []
    },
    {
      "cell_type": "code",
      "metadata": {
        "colab": {
          "background_save": true
        },
        "id": "uqlGjtR1ounB"
      },
      "source": [
        ""
      ],
      "execution_count": null,
      "outputs": []
    },
    {
      "cell_type": "code",
      "metadata": {
        "id": "CtSWvGXtounC"
      },
      "source": [
        ""
      ],
      "execution_count": null,
      "outputs": []
    }
  ]
}